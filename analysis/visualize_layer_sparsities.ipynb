{
 "cells": [
  {
   "cell_type": "code",
   "execution_count": null,
   "metadata": {},
   "outputs": [],
   "source": [
    "import json\n",
    "import matplotlib.pyplot as plt\n",
    "import seaborn as sns"
   ]
  },
  {
   "cell_type": "code",
   "execution_count": 33,
   "metadata": {},
   "outputs": [],
   "source": [
    "models = ['checkpoint_LTH0_epoch60.pt',\n",
    "         'checkpoint_LTH1_epoch60_sparsity0.168.pt',\n",
    "         'checkpoint_LTH2_epoch60_sparsity0.302.pt',\n",
    "         'checkpoint_LTH3_epoch60_sparsity0.410.pt',\n",
    "         'checkpoint_LTH4_epoch60_sparsity0.496.pt',\n",
    "         'checkpoint_LTH5_epoch60_sparsity0.565.pt'\n",
    "         ]\n",
    "\n",
    "sparsities = {}\n",
    "sparsities['k_proj_sparsity'] = {}\n",
    "sparsities['v_proj_sparsity'] = {}\n",
    "sparsities['q_proj_sparsity'] = {}\n",
    "sparsities['out_proj_sparsity'] = {}\n",
    "sparsities['fc1_sparsity'] = {}\n",
    "sparsities['fc2_sparsity'] = {}\n",
    "\n",
    "for (i, model) in enumerate(models):\n",
    "#     print(model)\n",
    "    file = open(f'./layer_sparsities/layerSparsities_{model}.json')\n",
    "    sparsity_dict = json.load(file)\n",
    "    model = model.strip().split('_')\n",
    "    try:\n",
    "        model_name = model[1] + '_' + model[-1][:-3]\n",
    "    except:\n",
    "        model_name = model[1] + '_' + 'sparsity0.000'\n",
    "#     print(model_name)\n",
    "    for key in sparsities:\n",
    "        if 'proj' in key:\n",
    "            sparsities[key][model_name] = {'encoder_self_attn' : [], \n",
    "                                           'decoder_encoder_attn' : [],\n",
    "                                           'decoder_self_attn' : []\n",
    "                                          }\n",
    "        else:\n",
    "            sparsities[key][model_name] = []\n",
    "    for layer_name in sparsity_dict:\n",
    "#         if i == 0: print(layer_name)\n",
    "        layer = layer_name.strip().split('.')\n",
    "        if layer[-1] != 'weight':\n",
    "            continue\n",
    "            \n",
    "        if layer[-2] == 'k_proj':\n",
    "            attn_type = layer[0] + '_' + layer[3]\n",
    "            sparsities['k_proj_sparsity'][model_name][attn_type].append(sparsity_dict[layer_name])\n",
    "        if layer[-2] == 'v_proj':\n",
    "            attn_type = layer[0] + '_' + layer[3]\n",
    "            sparsities['v_proj_sparsity'][model_name][attn_type].append(sparsity_dict[layer_name])\n",
    "        if layer[-2] == 'q_proj':\n",
    "            attn_type = layer[0] + '_' + layer[3]\n",
    "            sparsities['q_proj_sparsity'][model_name][attn_type].append(sparsity_dict[layer_name])\n",
    "        if layer[-2] == 'out_proj':\n",
    "            attn_type = layer[0] + '_' + layer[3]\n",
    "            sparsities['out_proj_sparsity'][model_name][attn_type].append(sparsity_dict[layer_name])\n",
    "            \n",
    "        if layer[-2] == 'fc1' and layer[-1] == 'weight':\n",
    "            sparsities['fc1_sparsity'][model_name].append(sparsity_dict[layer_name])\n",
    "        if layer[-2] == 'fc2' and layer[-1] == 'weight':\n",
    "            sparsities['fc2_sparsity'][model_name].append(sparsity_dict[layer_name])"
   ]
  },
  {
   "cell_type": "code",
   "execution_count": 35,
   "metadata": {},
   "outputs": [
    {
     "data": {
      "text/plain": [
       "{'encoder_self_attn': [0.569671630859375,\n",
       "  0.6457452774047852,\n",
       "  0.6138677597045898,\n",
       "  0.6115598678588867,\n",
       "  0.6135663986206055,\n",
       "  0.6088781356811523],\n",
       " 'decoder_encoder_attn': [0.542170524597168,\n",
       "  0.5447263717651367,\n",
       "  0.5260524749755859,\n",
       "  0.5173177719116211,\n",
       "  0.510441780090332,\n",
       "  0.5047855377197266],\n",
       " 'decoder_self_attn': [0.5468568801879883,\n",
       "  0.609858512878418,\n",
       "  0.5813722610473633,\n",
       "  0.581334114074707,\n",
       "  0.5756797790527344,\n",
       "  0.6014862060546875]}"
      ]
     },
     "execution_count": 35,
     "metadata": {},
     "output_type": "execute_result"
    }
   ],
   "source": [
    "sparsities['q_proj_sparsity']['LTH5_sparsity0.565']"
   ]
  },
  {
   "cell_type": "code",
   "execution_count": 24,
   "metadata": {},
   "outputs": [],
   "source": []
  },
  {
   "cell_type": "code",
   "execution_count": 26,
   "metadata": {},
   "outputs": [],
   "source": []
  },
  {
   "cell_type": "code",
   "execution_count": null,
   "metadata": {},
   "outputs": [],
   "source": []
  }
 ],
 "metadata": {
  "kernelspec": {
   "display_name": "Python 3",
   "language": "python",
   "name": "python3"
  },
  "language_info": {
   "codemirror_mode": {
    "name": "ipython",
    "version": 3
   },
   "file_extension": ".py",
   "mimetype": "text/x-python",
   "name": "python",
   "nbconvert_exporter": "python",
   "pygments_lexer": "ipython3",
   "version": "3.5.6"
  }
 },
 "nbformat": 4,
 "nbformat_minor": 4
}
